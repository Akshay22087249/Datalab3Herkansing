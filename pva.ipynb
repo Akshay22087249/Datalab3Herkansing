{
 "cells": [
  {
   "cell_type": "markdown",
   "metadata": {},
   "source": [
    "# Inleiding"
   ]
  },
  {
   "cell_type": "markdown",
   "metadata": {},
   "source": []
  },
  {
   "cell_type": "markdown",
   "metadata": {},
   "source": [
    "# Probleemstelling en Doelstelling"
   ]
  },
  {
   "cell_type": "markdown",
   "metadata": {},
   "source": []
  },
  {
   "cell_type": "markdown",
   "metadata": {},
   "source": [
    " # Onderzoeksvragen"
   ]
  },
  {
   "cell_type": "markdown",
   "metadata": {},
   "source": []
  },
  {
   "cell_type": "markdown",
   "metadata": {},
   "source": [
    "# Afbakening van de Opdracht"
   ]
  },
  {
   "cell_type": "markdown",
   "metadata": {},
   "source": []
  },
  {
   "cell_type": "markdown",
   "metadata": {},
   "source": [
    "# Tijdsplanning en Milestones"
   ]
  },
  {
   "cell_type": "markdown",
   "metadata": {},
   "source": []
  },
  {
   "cell_type": "markdown",
   "metadata": {},
   "source": [
    "# Onderbouwing van Keuzes"
   ]
  },
  {
   "cell_type": "markdown",
   "metadata": {},
   "source": []
  },
  {
   "cell_type": "markdown",
   "metadata": {},
   "source": [
    "# Procesbeschrijving"
   ]
  },
  {
   "cell_type": "markdown",
   "metadata": {},
   "source": []
  },
  {
   "cell_type": "markdown",
   "metadata": {},
   "source": [
    "# Risico's en beheersmaatregelen"
   ]
  },
  {
   "cell_type": "markdown",
   "metadata": {},
   "source": [
    "Afwezigheid van teamleden:\n",
    "\n",
    "Afwezigheid heeft bij ons project een kleine kans om op te dagen, omdat we drie weken hebben, maar kan hierdoor wel grote gevolgen hebben, omdat vertraging in drie weken ernstig kan zijn. Als iemand afwezig is door bijvoorbeeld ziektes of persoonlijke omstandigheden dan kun je van te voren voor een duidelijke taakverdeling zorgen, zodat de afwezige in zijn eigen tijd kan werken, als dit niet werkt dan dient iemand anders in de groep de taak zoveel mogelijk over te nemen.\n",
    "\n",
    "Tijd (onrealistische deadlines):\n",
    "\n",
    "Als tweede kan het zijn dat een onderdeel in het project langer duurt dan verwacht, voor het geval dit gebeurt kun je ruime deadlines instellen en misschien de deadline ook verschuiven als dat mogelijk is. In ons project kan de kans best wel klein zijn, omdat we weinig tijd hebben voor dit project, maar de gevolgen zijn wel groot, omdat we maar drie weken hebben.\n",
    "\n",
    "Communicatieproblemen:\n",
    "\n",
    "Als derde hebben we communicatieproblemen als één van onze risico's, omdat het wel eens kan zijn iemand in de groep niet weet wat de taak is of wat de opdrachtgever van ons verwacht, gevolgen hiervan zijn best groot en de kans is middelgroot, om dit te voorkomen kunnen we afspraken/meetings plannen direct nadat we klaar zijn met de huidige meeting, als dit mislukt dan moet er zo snel mogelijk contact opgenomen worden via whatsapp, mail of teams.\n",
    "\n",
    "Datakwaliteit en toegankelijkheid:\n",
    "\n",
    "Bij het scrapen van data kan het zijn dat wat je gescrapet hebt niet voldoende is voor het project, de kans hiervoor is gemiddeld, omdat al wat kennis gerkregen hadden tijdens data III, maar de gevolgen zijn ernstig, omdat we zonder data het project niet uit kunnen voeren. Om dit te voorkomen kunnen we de data opschonen en kijken of er iets mist door een EDA te doen, zo ja? dan zoeken we nog naar aanvullende datasets.\n",
    "\n",
    "Technische uitdagingen bij Machine Learning:\n",
    "\n",
    "De kans op technische uitdagingen binnen Machine Learning is middelgroot en hangt af van de kwaliteit van de data en de ervaring van het team. Het gevolg kan echter groot zijn, omdat een niet-functionerend model resulteert in onbetrouwbare of onbruikbare adviezen. Om dit te voorkomen kunnen we beginnen met eenvoudige analyses voordat we complexere modellen toepassen en voor het geval dit niet werkt kunnen we hulp vragen bij de opdrachtgever of één van onze docenten.\n"
   ]
  }
 ],
 "metadata": {
  "language_info": {
   "name": "python"
  }
 },
 "nbformat": 4,
 "nbformat_minor": 2
}
