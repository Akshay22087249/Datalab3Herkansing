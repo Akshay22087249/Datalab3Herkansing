{
 "cells": [
  {
   "cell_type": "markdown",
   "metadata": {},
   "source": [
    "# Inleiding"
   ]
  },
  {
   "cell_type": "markdown",
   "metadata": {},
   "source": []
  },
  {
   "cell_type": "markdown",
   "metadata": {},
   "source": [
    "# Probleemstelling en Doelstelling"
   ]
  },
  {
   "cell_type": "markdown",
   "metadata": {},
   "source": []
  },
  {
   "cell_type": "markdown",
   "metadata": {},
   "source": [
    " # Onderzoeksvragen"
   ]
  },
  {
   "cell_type": "markdown",
   "metadata": {},
   "source": []
  },
  {
   "cell_type": "markdown",
   "metadata": {},
   "source": [
    "# Afbakening van de Opdracht"
   ]
  },
  {
   "cell_type": "markdown",
   "metadata": {},
   "source": []
  },
  {
   "cell_type": "markdown",
   "metadata": {},
   "source": [
    "# Tijdsplanning en Milestones"
   ]
  },
  {
   "cell_type": "markdown",
   "metadata": {},
   "source": []
  },
  {
   "cell_type": "markdown",
   "metadata": {},
   "source": [
    "# Onderbouwing van Keuzes"
   ]
  },
  {
   "cell_type": "markdown",
   "metadata": {},
   "source": []
  },
  {
   "cell_type": "markdown",
   "metadata": {},
   "source": [
    "# Procesbeschrijving"
   ]
  },
  {
   "cell_type": "markdown",
   "metadata": {},
   "source": []
  },
  {
   "cell_type": "markdown",
   "metadata": {},
   "source": []
  },
  {
   "cell_type": "markdown",
   "metadata": {},
   "source": [
    "# Stakeholderanalyse – Efficiëntere Inzet van Onderwijsruimten\n",
    "\n",
    "| **Stakeholder**                     | **Belang bij het project**                                     | **Invloed**   | **Impact**  |\n",
    "|--------------------------------------|----------------------------------------------------------------|--------------|-------------|\n",
    "| **De Haagse Hogeschool (Bestuur & Management)** | Verantwoordelijk voor onderwijsbeleid en efficiëntie van middelen. Willen kosten en ruimtegebruik optimaliseren.  | **Zeer hoog** | **Zeer hoog** |\n",
    "| **Docenten**                         | Worden beïnvloed door roosterwijzigingen en beschikbaarheid van lokalen.  | **Hoog** | **Zeer hoog** |\n",
    "| **Studenten**                        | Ervaren de gevolgen van slecht lokaalbeheer in hun dagelijkse lessen. | **Matig** | **Zeer hoog** |\n",
    "| **Roostermakers / Planners**         | Verantwoordelijk voor het plannen van lessen en lokaalverdeling. | **Hoog** | **Hoog** |\n",
    "| **Overige medewerkers (bijvoorbeeld receptie, conciërges)** | Zorgen voor de dagelijkse gang van zaken in de gebouwen en lokalen. | **Laag** | **Matig** |\n"
   ]
  },
  {
   "cell_type": "markdown",
   "metadata": {},
   "source": [
    " "
   ]
  }
 ],
 "metadata": {
  "language_info": {
   "name": "python"
  }
 },
 "nbformat": 4,
 "nbformat_minor": 2
}
