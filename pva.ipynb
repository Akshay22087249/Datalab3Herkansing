{
 "cells": [
  {
   "cell_type": "markdown",
   "metadata": {},
   "source": [
    "# Inleiding"
   ]
  },
  {
   "cell_type": "markdown",
   "metadata": {},
   "source": [
    "De Haagse Hogeschool streeft ernaar om haar onderwijs zo effectief en efficiënt mogelijk in te richten. Een belangrijk aspect hierbij is de optimale benutting van de beschikbare onderwijsruimten. Momenteel is er echter een probleem met de toewijzing en beschikbaarheid van lokalen, waardoor het onderwijs niet altijd kan worden gegeven op de gewenste manier. Dit leidt tot frustratie bij zowel docenten als studenten en kan de onderwijskwaliteit negatief beïnvloeden. Er ontstaan suboptimale onderwijssituaties, zoals overvolle lokalen, onnodige verplaatsingen voor studenten en docenten, en een inefficiënte inzet van middelen.\n",
    "\n",
    "De opdrachtgever voor dit project is de Haagse Hogeschool zelf, die graag een oplossing wil vinden voor dit probleem. De school heeft besloten om ons als studenten in te schakelen om met behulp van data-analyse en Machine Learning te onderzoeken hoe de lokalen efficiënter ingezet kunnen worden. De beschikbare data betreft de inzet van de lokalen van het afgelopen jaar, die door ons zelf gescraped moet worden van de MyTimeTable-website. Mogelijk kunnen aanvullende datasets gebruikt worden om de analyse te verrijken. Het uiteindelijke doel is om een onderbouwd advies te geven over hoe de Haagse Hogeschool haar lokalen efficiënter kan inzetten, wat zal bijdragen aan de verbetering van de onderwijskwaliteit en de efficiëntie van de organisatie."
   ]
  },
  {
   "cell_type": "markdown",
   "metadata": {},
   "source": [
    "# Probleemstelling en doelstelling"
   ]
  },
  {
   "cell_type": "markdown",
   "metadata": {},
   "source": [
    "Probleemstelling: Op de Haagse Hogeschool is er soms een tekort aan geschikte onderwijsruimten, waardoor lessen niet optimaal kunnen worden gepland en gegeven. Dit leidt tot inefficiënt ruimtegebruik, onderbenutte lokalen en overvolle zalen, wat de kwaliteit van het onderwijs beïnvloedt.\n",
    "\n",
    "Doelstelling: Het doel van dit onderzoek is om op basis van data-analyse en Machine Learning inzicht te krijgen in het huidige gebruik van onderwijsruimten en aanbevelingen te doen voor een efficiëntere inzet van lokalen. Dit zal resulteren in een adviesrapport en een presentatie waarin concrete verbeteringen worden voorgesteld. De studenten zullen een Machine Learning model ontwikkelen dat inzichten biedt in de huidige benutting van de lokalen en suggesties doet voor verbetering.\n",
    "\n",
    "Concrete Deliverables:\n",
    "\n",
    "- een plan van aanpak en projectplan\n",
    "\n",
    "- een voorbewerkt dataset van de lokaleninzet van het afgelopen jaar.\n",
    "\n",
    "- Een Machine Learning model dat inzicht geeft in de huidige benutting van de lokalen en suggesties doet voor verbetering.\n",
    "\n",
    "- Een adviesrapport met concrete aanbevelingen voor een efficiëntere inzet van de lokalen.\n",
    "\n",
    "- Een presentatie waarin de resultaten en aanbevelingen worden toegelicht."
   ]
  },
  {
   "cell_type": "markdown",
   "metadata": {},
   "source": [
    " # Onderzoeksvragen"
   ]
  },
  {
   "cell_type": "markdown",
   "metadata": {},
   "source": [
    "\n",
    "\n",
    "## Hoofdvraag : \n",
    "\n",
    "- **Hoe kan het indeling van klaslokalen efficienter worden gedaan op basis van data-analyse en een voorspellend model ?**\n",
    "\n",
    "\n",
    "### Deelvragen: \n",
    "\n",
    "- Hoe worden de lokalen momenteel ingedeeld/gebruikt en waar zitten de grooste knelpunten in het gebruik van de beschikbare ruimtes ?\n",
    "\n",
    "- Welke Machine Learning modellen kunnen gebruikt worden bij het voorspellen van de lokaal inrichtingen en welke inzichten kunnen hieruit gehaald worden?\n",
    " \n",
    "- Welke praktische oplossingen kunnen er uit de analyse voortkomen om lokalen efficiënter te gebruiken, en hoe kunnen deze worden ingevoerd zonder dat het ten koste gaat van de kwaliteit van het onderwijs\n"
   ]
  },
  {
   "cell_type": "markdown",
   "metadata": {},
   "source": [
    "# Afbakening van de opdracht"
   ]
  },
  {
   "cell_type": "markdown",
   "metadata": {},
   "source": [
    "Om dit project binnen de gestelde termijn van 3,5 week haalbaar te maken, hebben wij ervoor gekozen om de opdracht duidelijk af te bakenen.\n",
    "\n",
    "Het project richt zich op het analyseren van het huidige lokaalgebruik binnen De Haagse Hogeschool en het formuleren van aanbevelingen om deze inzet efficiënter te maken. Onze primaire databron bestaat uit gegevens van MyTimeTable over het afgelopen studiejaar. Deze data zullen wij zelf scrapen en vervolgens bewerken zodat deze geschikt is voor verdere analyse. Hoewel de opdrachtgever een toekomstvisie heeft waarin een applicatie wordt ontwikkeld die het ruimtegebruik automatisch optimaliseert, valt dat buiten de scope van dit project. Binnen de beschikbare tijd is het niet realistisch om een volwaardige toepassing te bouwen. In plaats daarvan focussen wij ons op het opleveren van een goed onderbouwd adviesrapport waarin wij met behulp van data-analyse en een eerste toepassing van Machine Learning inzichten geven in. de huidige knelpunten en mogelijke verbeteringen.Indien mogelijk zullen wij onze hoofddata aanvullen met externe, openbare datasets, bijvoorbeeld met betrekking tot studenteninstroom of roosterinformatie. We beperken ons echter tot analyses die praktisch uitvoerbaar zijn met de middelen en tijd die wij tot onze beschikking hebben. Complexe algoritmes voor roosteroptimalisatie, zoals constraint programming, laten wij buiten beschouwing.Verder houden wij in onze aanpak nadrukkelijk rekening met de juridische en ethische kant van het project. We zorgen ervoor dat we verantwoord omgaan met de data, met aandacht voor privacy en transparantie.\n",
    "\n",
    "Met deze afbakening zorgen we ervoor dat het project doelgericht blijft, dat de werklast beheersbaar is, en dat we binnen de afgesproken tijd een waardevol en concreet advies kunnen opleveren voor de opdrachtgever."
   ]
  },
  {
   "cell_type": "markdown",
   "metadata": {},
   "source": [
    "# Tijdsplanning en milestones"
   ]
  },
  {
   "cell_type": "markdown",
   "metadata": {},
   "source": [
    "Elke projectweek eindigt op donderdag, met de definitieve deadline op **donderdag 25 april 2025**. Binnen deze periode hebben we het project opgedeeld in vier hoofdfases. Per week zijn de activiteiten en deliverables hieronder uitgewerkt. Deze planning helpt ons om gestructureerd te werken en tijdig bij te sturen.\n",
    "\n",
    "| Week       | Periode               | Fase                     | Activiteiten                                                                                                                                     | Deliverables / Milestones                               |\n",
    "|------------|-----------------------|--------------------------|--------------------------------------------------------------------------------------------------------------------------------------------------|----------------------------------------------------------|\n",
    "| Week 1     | 29 maart – 3 april     | Oriëntatie & Verkenning | Kick-off, analyse van het probleem en domein, eerste overleg met de opdrachtgever, brainstormsessies, taakverdeling                            | Gevalideerde probleemdefinitie en afbakening             |\n",
    "| Week 2     | 4 april – 10 april     | Data & Onderzoek        | Scrapen van MyTimeTable-data, datavoorbewerking, literatuuronderzoek naar vergelijkbare cases, formuleren van onderzoeksvragen en hypotheses  | Voorbewerkte dataset en heldere onderzoeksvragen         |\n",
    "| Week 3     | 11 april – 17 april    | Modelleren & Analyse    | Eerste Machine Learning-modellen ontwikkelen, resultaten interpreteren, ethische analyse, opstellen van conceptadviezen                       | Werkend model en voorlopige aanbevelingen                |\n",
    "| Week 4     | 18 april – 24 april    | Rapport & Presentatie   | Schrijven van het adviesrapport, ontwerpen van de presentatie, interne review en voorbereiden van de eindpresentatie                          | Definitief rapport en presentatie                        |\n",
    "| Deadline   | Donderdag 25 april     |                         | Inleveren eindrapport + geven van eindpresentatie                                                                                              | Oplevering eindproduct aan opdrachtgever                 |\n",
    "\n",
    "#### Belangrijke deadlines (altijd op donderdag):\n",
    "- **3 april:** Probleemdefinitie en afbakening afgerond\n",
    "- **10 april:** Dataset verwerkt en onderzoeksvragen opgesteld\n",
    "- **17 april:** Eerste modelresultaten en aanbevelingen beschikbaar\n",
    "- **24 april:** Rapport en presentatie volledig klaar\n",
    "- **25 april:** **Definitieve deadline** – inleveren en presenteren"
   ]
  },
  {
   "cell_type": "markdown",
   "metadata": {},
   "source": [
    "# Onderbouwing van keuzes"
   ]
  },
  {
   "cell_type": "markdown",
   "metadata": {},
   "source": [
    "Bij het formuleren van onze probleemstelling en doelstelling hebben wij ons laten ondersteunen door bestaande literatuur en eerdere vergelijkbare cases binnen het hoger onderwijs. Uit verschillende studies blijkt dat efficiënt ruimtegebruik een veelvoorkomend knelpunt is bij onderwijsinstellingen. \n",
    "\n",
    "Onderzoek van onder andere de [Vereniging Hogescholen (2022)](https://www.vereniginghogescholen.nl/kennisbank/publicaties/2022/ruimtegebruik-hogescholen) laat zien dat onbenutte of verkeerd toegewezen lokalen leiden tot onnodige kosten en een lagere onderwijskwaliteit. Ook is er gekeken naar cases waarbij data-analyse is ingezet om lokaalplanning te verbeteren, zoals projecten aan de [TU Delft](https://www.tudelft.nl/en/student/roosters) en [Universiteit Utrecht](https://www.uu.nl/organisatie/onderwijsroosters).\n",
    "\n",
    "Daarnaast is gekeken naar literatuur over het gebruik van Machine Learning binnen resource planning. Bronnen zoals het artikel [\"Machine Learning for Smart Campus Resource Management\"](https://ieeexplore.ieee.org/document/9444464) (IEEE, 2021) bevestigen dat voorspellende modellen effectief kunnen zijn in het optimaliseren van middelen op campussen, mits ondersteund door kwalitatieve data en duidelijke interpretatie.\n",
    "\n",
    "Deze inzichten hebben gediend als basis voor het formuleren van onze probleemstelling: het tekort aan geschikte onderwijsruimten op de Haagse Hogeschool en de daaruit voortvloeiende knelpunten. De keuze om Machine Learning in te zetten is onderbouwd door het succes van deze techniek in andere, soortgelijke projecten."
   ]
  },
  {
   "cell_type": "markdown",
   "metadata": {},
   "source": [
    "# Procesbeschrijving"
   ]
  },
  {
   "cell_type": "markdown",
   "metadata": {},
   "source": [
    "Het proces richting de uiteindelijke probleemdefinitie en doelstelling is zorgvuldig en iteratief verlopen. In de eerste week van het project zijn verschillende stappen ondernomen om tot een helder en afgebakend probleembeeld te komen:\n",
    "\n",
    "1. **Kick-off met opdrachtgever:** Tijdens een eerste overleg met de opdrachtgever hebben we input gekregen over de ervaren problemen rondom lokaalplanning en de verwachtingen van het project.\n",
    "2. **Brainstormsessies binnen het team:** We hebben in meerdere sessies gebrainstormd over de mogelijke oorzaken van het probleem, mogelijke oplossingsrichtingen en de inzet van data en techniek. Hierbij zijn diverse scenario’s besproken en zijn prioriteiten gesteld.\n",
    "3. **Literatuuronderzoek:** We hebben gericht gezocht naar relevante literatuur over lokaalbeheer in het hoger onderwijs, optimalisatie van ruimtegebruik en toepassingen van data-analyse binnen dit domein. Dit heeft gediend als wetenschappelijke onderbouwing van de probleemstelling.\n",
    "4. **Analyse van vergelijkbare projecten:** Eerdere projecten op andere onderwijsinstellingen en binnen de Haagse Hogeschool zelf zijn bestudeerd om te kijken welke aanpakken succesvol zijn gebleken en wat de leerpunten waren.\n",
    "5. **Opstellen en valideren van de probleemdefinitie:** Op basis van bovenstaande input is de eerste versie van de probleemdefinitie opgesteld. Deze is in een tweede overleg met de opdrachtgever besproken en vervolgens aangescherpt tot de versie die nu in dit document is opgenomen.\n",
    "\n",
    "Door dit proces zijn we tot een goed onderbouwde en realistisch afgebakende opdracht gekomen die uitvoerbaar is binnen de beschikbare tijd, middelen en expertise van het team."
   ]
  },
  {
   "cell_type": "markdown",
   "metadata": {},
   "source": [
    "## Risico's en beheersmaatregelen\n",
    "\n",
    "**Afwezigheid van teamleden:**\n",
    "\n",
    "Afwezigheid heeft bij ons project een kleine kans om op te dagen, omdat we drie weken hebben, maar kan hierdoor wel grote gevolgen hebben, omdat vertraging in drie weken ernstig kan zijn. Als iemand afwezig is door bijvoorbeeld ziektes of persoonlijke omstandigheden dan kun je van te voren voor een duidelijke taakverdeling zorgen, zodat de afwezige in zijn eigen tijd kan werken, als dit niet werkt dan dient iemand anders in de groep de taak zoveel mogelijk over te nemen.\n",
    "\n",
    "**Tijd (onrealistische deadlines):**\n",
    "\n",
    "Als tweede kan het zijn dat een onderdeel in het project langer duurt dan verwacht, voor het geval dit gebeurt kun je ruime deadlines instellen en misschien de deadline ook verschuiven als dat mogelijk is. In ons project kan de kans best wel klein zijn, omdat we weinig tijd hebben voor dit project, maar de gevolgen zijn wel groot, omdat we maar drie weken hebben.\n",
    "\n",
    "**Communicatieproblemen:**\n",
    "\n",
    "Als derde hebben we communicatieproblemen als één van onze risico's, omdat het wel eens kan zijn iemand in de groep niet weet wat de taak is of wat de opdrachtgever van ons verwacht, gevolgen hiervan zijn best groot en de kans is middelgroot, om dit te voorkomen kunnen we afspraken/meetings plannen direct nadat we klaar zijn met de huidige meeting, als dit mislukt dan moet er zo snel mogelijk contact opgenomen worden via whatsapp, mail of teams.\n",
    "\n",
    "**Datakwaliteit en toegankelijkheid:**\n",
    "\n",
    "Bij het scrapen van data kan het zijn dat wat je gescrapet hebt niet voldoende is voor het project, de kans hiervoor is gemiddeld, omdat al wat kennis gerkregen hadden tijdens data III, maar de gevolgen zijn ernstig, omdat we zonder data het project niet uit kunnen voeren. Om dit te voorkomen kunnen we de data opschonen en kijken of er iets mist door een EDA te doen, zo ja? dan zoeken we nog naar aanvullende datasets.\n",
    "\n",
    "**Technische uitdagingen bij Machine Learning:**\n",
    "\n",
    "De kans op technische uitdagingen binnen Machine Learning is middelgroot en hangt af van de kwaliteit van de data en de ervaring van het team. Het gevolg kan echter groot zijn, omdat een niet-functionerend model resulteert in onbetrouwbare of onbruikbare adviezen. Om dit te voorkomen kunnen we beginnen met eenvoudige analyses voordat we complexere modellen toepassen en voor het geval dit niet werkt kunnen we hulp vragen bij de opdrachtgever of één van onze docenten."
   ]
  },
  {
   "cell_type": "markdown",
   "metadata": {},
   "source": [
    "# Stakeholderanalyse – efficiëntere inzet van onderwijsruimten\n",
    "\n",
    "| **Stakeholder**                     | **Belang bij het project**                                     | **Invloed**   | **Impact**  |\n",
    "|--------------------------------------|----------------------------------------------------------------|--------------|-------------|\n",
    "| **De Haagse Hogeschool (Bestuur & Management)** | Verantwoordelijk voor onderwijsbeleid en efficiëntie van middelen. Willen kosten en ruimtegebruik optimaliseren.  | **Zeer hoog** | **Zeer hoog** |\n",
    "| **Docenten**                         | Worden beïnvloed door roosterwijzigingen en beschikbaarheid van lokalen.  | **Hoog** | **Zeer hoog** |\n",
    "| **Studenten**                        | Ervaren de gevolgen van slecht lokaalbeheer in hun dagelijkse lessen. | **Matig** | **Zeer hoog** |\n",
    "| **Roostermakers / Planners**         | Verantwoordelijk voor het plannen van lessen en lokaalverdeling. | **Hoog** | **Hoog** |\n",
    "| **Overige medewerkers (bijvoorbeeld receptie, conciërges)** | Zorgen voor de dagelijkse gang van zaken in de gebouwen en lokalen. | **Laag** | **Matig** |\n"
   ]
  },
  {
   "cell_type": "markdown",
   "metadata": {},
   "source": []
  }
 ],
 "metadata": {
  "language_info": {
   "name": "python"
  }
 },
 "nbformat": 4,
 "nbformat_minor": 2
}
