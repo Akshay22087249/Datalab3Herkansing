{
 "cells": [
  {
   "cell_type": "markdown",
   "metadata": {},
   "source": [
    "# Inleiding"
   ]
  },
  {
   "cell_type": "markdown",
   "metadata": {},
   "source": []
  },
  {
   "cell_type": "markdown",
   "metadata": {},
   "source": [
    "# Probleemstelling en Doelstelling"
   ]
  },
  {
   "cell_type": "markdown",
   "metadata": {},
   "source": []
  },
  {
   "cell_type": "markdown",
   "metadata": {},
   "source": [
    " # Onderzoeksvragen"
   ]
  },
  {
   "cell_type": "markdown",
   "metadata": {},
   "source": []
  },
  {
   "cell_type": "markdown",
   "metadata": {},
   "source": [
    "# Afbakening van de Opdracht"
   ]
  },
  {
   "cell_type": "markdown",
   "metadata": {},
   "source": [
    "Om dit project binnen de gestelde termijn van 3,5 week haalbaar te maken, hebben wij ervoor gekozen om de opdracht duidelijk af te bakenen.\n",
    "\n",
    "Het project richt zich op het analyseren van het huidige lokaalgebruik binnen De Haagse Hogeschool en het formuleren van aanbevelingen om deze inzet efficiënter te maken.\n",
    "\n",
    "Onze primaire databron bestaat uit gegevens van MyTimeTable over het afgelopen studiejaar.\n",
    "\n",
    "Deze data zullen wij zelf scrapen en vervolgens bewerken zodat deze geschikt is voor verdere analyse.\n",
    "\n",
    "Hoewel de opdrachtgever een toekomstvisie heeft waarin een applicatie wordt ontwikkeld die het ruimtegebruik automatisch optimaliseert, valt dat buiten de scope van dit project.\n",
    "\n",
    "Binnen de beschikbare tijd is het niet realistisch om een volwaardige toepassing te bouwen.\n",
    "\n",
    "In plaats daarvan focussen wij ons op het opleveren van een goed onderbouwd adviesrapport waarin wij met behulp van data-analyse en een eerste toepassing van Machine Learning inzichten geven in de huidige knelpunten en mogelijke verbeteringen.\n",
    "\n",
    "Indien mogelijk zullen wij onze hoofddata aanvullen met externe, openbare datasets, bijvoorbeeld met betrekking tot studenteninstroom of roosterinformatie.\n",
    "\n",
    "We beperken ons echter tot analyses die praktisch uitvoerbaar zijn met de middelen en tijd die wij tot onze beschikking hebben. \n",
    "\n",
    "Complexe algoritmes voor roosteroptimalisatie, zoals constraint programming, laten wij buiten beschouwing.\n",
    "\n",
    "Verder houden wij in onze aanpak nadrukkelijk rekening met de juridische en ethische kant van het project. \n",
    "\n",
    "We zorgen ervoor dat we verantwoord omgaan met de data, met aandacht voor privacy en transparantie.\n",
    "\n",
    "Met deze afbakening zorgen we ervoor dat het project doelgericht blijft, dat de werklast beheersbaar is, en dat we binnen de afgesproken tijd een waardevol en concreet advies kunnen opleveren voor de opdrachtgever."
   ]
  },
  {
   "cell_type": "markdown",
   "metadata": {},
   "source": [
    "# Tijdsplanning en Milestones"
   ]
  },
  {
   "cell_type": "markdown",
   "metadata": {},
   "source": [
    "Elke projectweek eindigt op donderdag, met de definitieve deadline op **donderdag 25 april 2025**. Binnen deze periode hebben we het project opgedeeld in vier hoofdfases. Per week zijn de activiteiten en deliverables hieronder uitgewerkt. Deze planning helpt ons om gestructureerd te werken en tijdig bij te sturen.\n",
    "\n",
    "| Week       | Periode               | Fase                     | Activiteiten                                                                                                                                     | Deliverables / Milestones                               |\n",
    "|------------|-----------------------|--------------------------|--------------------------------------------------------------------------------------------------------------------------------------------------|----------------------------------------------------------|\n",
    "| Week 1     | 29 maart – 3 april     | Oriëntatie & Verkenning | Kick-off, analyse van het probleem en domein, eerste overleg met de opdrachtgever, brainstormsessies, taakverdeling                            | Gevalideerde probleemdefinitie en afbakening             |\n",
    "| Week 2     | 4 april – 10 april     | Data & Onderzoek        | Scrapen van MyTimeTable-data, datavoorbewerking, literatuuronderzoek naar vergelijkbare cases, formuleren van onderzoeksvragen en hypotheses  | Voorbewerkte dataset en heldere onderzoeksvragen         |\n",
    "| Week 3     | 11 april – 17 april    | Modelleren & Analyse    | Eerste Machine Learning-modellen ontwikkelen, resultaten interpreteren, ethische analyse, opstellen van conceptadviezen                       | Werkend model en voorlopige aanbevelingen                |\n",
    "| Week 4     | 18 april – 24 april    | Rapport & Presentatie   | Schrijven van het adviesrapport, ontwerpen van de presentatie, interne review en voorbereiden van de eindpresentatie                          | Definitief rapport en presentatie                        |\n",
    "| Deadline   | Donderdag 25 april     |                         | Inleveren eindrapport + geven van eindpresentatie                                                                                              | Oplevering eindproduct aan opdrachtgever                 |\n",
    "\n",
    "#### Belangrijke deadlines (altijd op donderdag):\n",
    "- **3 april:** Probleemdefinitie en afbakening afgerond\n",
    "- **10 april:** Dataset verwerkt en onderzoeksvragen opgesteld\n",
    "- **17 april:** Eerste modelresultaten en aanbevelingen beschikbaar\n",
    "- **24 april:** Rapport en presentatie volledig klaar\n",
    "- **25 april:** **Definitieve deadline** – inleveren en presenteren"
   ]
  },
  {
   "cell_type": "markdown",
   "metadata": {},
   "source": [
    "# Onderbouwing van Keuzes"
   ]
  },
  {
   "cell_type": "markdown",
   "metadata": {},
   "source": []
  },
  {
   "cell_type": "markdown",
   "metadata": {},
   "source": [
    "# Procesbeschrijving"
   ]
  },
  {
   "cell_type": "markdown",
   "metadata": {},
   "source": []
  }
 ],
 "metadata": {
  "language_info": {
   "name": "python"
  }
 },
 "nbformat": 4,
 "nbformat_minor": 2
}
