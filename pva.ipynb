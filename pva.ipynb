{
 "cells": [
  {
   "cell_type": "markdown",
   "metadata": {},
   "source": [
    "# Inleiding"
   ]
  },
  {
   "cell_type": "markdown",
   "metadata": {},
   "source": []
  },
  {
   "cell_type": "markdown",
   "metadata": {},
   "source": [
    "# Probleemstelling en Doelstelling"
   ]
  },
  {
   "cell_type": "markdown",
   "metadata": {},
   "source": []
  },
  {
   "cell_type": "markdown",
   "metadata": {},
   "source": [
    " # Onderzoeksvragen"
   ]
  },
  {
   "cell_type": "markdown",
   "metadata": {},
   "source": []
  },
  {
   "cell_type": "markdown",
   "metadata": {},
   "source": [
    "# Afbakening van de Opdracht"
   ]
  },
  {
   "cell_type": "markdown",
   "metadata": {},
   "source": []
  },
  {
   "cell_type": "markdown",
   "metadata": {},
   "source": [
    "# Tijdsplanning en Milestones"
   ]
  },
  {
   "cell_type": "markdown",
   "metadata": {},
   "source": []
  },
  {
   "cell_type": "markdown",
   "metadata": {},
   "source": [
    "# Onderbouwing van Keuzes"
   ]
  },
  {
   "cell_type": "markdown",
   "metadata": {},
   "source": []
  },
  {
   "cell_type": "markdown",
   "metadata": {},
   "source": [
    "# Procesbeschrijving"
   ]
  },
  {
   "cell_type": "markdown",
   "metadata": {},
   "source": []
  },
  {
   "cell_type": "markdown",
   "metadata": {},
   "source": [
    "# Risico's en beheersmaatregelen"
   ]
  },
  {
   "cell_type": "markdown",
   "metadata": {},
   "source": [
    "Afwezigheid:\n",
    "\n",
    "Wanneer er iemand afwezig is voor wat voor redenen dan ook moet iemand anders de taak van de afwezige over kunnen nemen en de afwezige moet dan ook op de hoogte gebracht worden van wat er allemaal gedaan is tijdens zijn/haar afwezigheid.\n",
    "\n",
    "Tijd:\n",
    "\n",
    "Ten tweede als een deadline niet realistisch blijkt te zijn, dan kan het handig zijn om uitloopperiodes te maken.\n",
    "\n",
    "Communicatie:\n",
    "\n",
    "Als laatste als er wat onduidelijkheden zijn met de opdrachtgever en/of individuele taken dient er meteen contact opgenomen te worden om die onduidelijkheden tegen te gaan.\n"
   ]
  }
 ],
 "metadata": {
  "language_info": {
   "name": "python"
  }
 },
 "nbformat": 4,
 "nbformat_minor": 2
}
