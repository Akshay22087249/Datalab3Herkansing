{
 "cells": [
  {
   "cell_type": "markdown",
   "metadata": {},
   "source": [
    "# Inleiding"
   ]
  },
  {
   "cell_type": "markdown",
   "metadata": {},
   "source": [
    "De Haagse Hogeschool streeft ernaar om haar onderwijs zo effectief en efficiënt mogelijk in te richten. Een belangrijk aspect hierbij is de optimale benutting van de beschikbare onderwijsruimten. Momenteel is er echter een probleem met de toewijzing en beschikbaarheid van lokalen, waardoor het onderwijs niet altijd kan worden gegeven op de gewenste manier. Dit leidt tot frustratie bij zowel docenten als studenten en kan de onderwijskwaliteit negatief beïnvloeden. Er ontstaan suboptimale onderwijssituaties, zoals overvolle lokalen, onnodige verplaatsingen voor studenten en docenten, en een inefficiënte inzet van middelen. \n",
    "\n",
    "De opdrachtgever voor dit project is de Haagse Hogeschool zelf, die graag een oplossing wil vinden voor dit probleem. De school heeft besloten om ons als studenten in te schakelen om met behulp van data-analyse en Machine Learning te onderzoeken hoe de lokalen efficiënter ingezet kunnen worden. De beschikbare data betreft de inzet van de lokalen van het afgelopen jaar, die door ons zelf gescraped moet worden van de MyTimeTable-website. Mogelijk kunnen aanvullende datasets gebruikt worden om de analyse te verrijken. Het uiteindelijke doel is om een onderbouwd advies te geven over hoe de Haagse Hogeschool haar lokalen efficiënter kan inzetten, wat zal bijdragen aan de verbetering van de onderwijskwaliteit en de efficiëntie van de organisatie. "
   ]
  },
  {
   "cell_type": "markdown",
   "metadata": {},
   "source": [
    "# Probleemstelling en Doelstelling"
   ]
  },
  {
   "cell_type": "markdown",
   "metadata": {},
   "source": [
    "\n",
    "\n",
    "**Probleemstelling:** Op de Haagse Hogeschool is er soms een tekort aan geschikte onderwijsruimten, waardoor lessen niet optimaal kunnen worden gepland en gegeven. Dit leidt tot inefficiënt ruimtegebruik, onderbenutte lokalen en overvolle zalen, wat de kwaliteit van het onderwijs beïnvloedt. \n",
    "\n",
    "**Doelstelling:** Het doel van dit onderzoek is om op basis van data-analyse en Machine Learning inzicht te krijgen in het huidige gebruik van onderwijsruimten en aanbevelingen te doen voor een efficiëntere inzet van lokalen. Dit zal resulteren in een adviesrapport en een presentatie waarin concrete verbeteringen worden voorgesteld. De studenten zullen een Machine Learning model ontwikkelen dat inzichten biedt in de huidige benutting van de lokalen en suggesties doet voor verbetering. \n",
    "\n",
    "**Concrete Deliverables:**\n",
    "\n",
    "- en voorbewerkt dataset van de lokaleninzet van het afgelopen jaar. \n",
    "\n",
    "- Een Machine Learning model dat inzicht geeft in de huidige benutting van de lokalen en suggesties doet voor verbetering. \n",
    "\n",
    "- Een adviesrapport met concrete aanbevelingen voor een efficiëntere inzet van de lokalen. \n",
    "\n",
    "- Een presentatie waarin de resultaten en aanbevelingen worden toegelicht. "
   ]
  },
  {
   "cell_type": "markdown",
   "metadata": {},
   "source": [
    " # Onderzoeksvragen"
   ]
  },
  {
   "cell_type": "markdown",
   "metadata": {},
   "source": [
    "\n",
    "\n",
    "Om het probleem van de inefficiënte inzet van lokalen grondig te analyseren, worden de volgende onderzoeksvragen geformuleerd: \n",
    "\n",
    "1. **Dataverzameling en -voorbewerking:**\n",
    "\n",
    "- Hoe kan de data over de lokaleninzet van het afgelopen jaar het beste worden gescraped en voorbewerkt voor analyse? \n",
    "\n",
    "- Zijn er aanvullende datasets beschikbaar die de analyse kunnen verrijken, en hoe kunnen deze worden geïntegreerd? \n",
    "\n",
    "2. **Analyse van de huidige situatie:** \n",
    "\n",
    "- Hoe wordt de huidige capaciteit van de lokalen benut, en waar zitten de grootste knelpunten? \n",
    "\n",
    "- Zijn er patronen te herkennen in de bezetting van lokalen, zoals piek- en daluren? \n",
    "\n",
    "3. **Machine Learning en voorspellende modellen:**\n",
    "\n",
    "- Welke Machine Learning technieken zijn het meest geschikt om de efficiëntie van de lokaleninzet te analyseren? \n",
    "\n",
    "- Kan er een voorspellend model worden ontwikkeld dat toekomstige bezetting van lokalen kan voorspellen op basis van historische data? \n",
    "\n",
    "4. **Aanbevelingen voor verbetering:** \n",
    "\n",
    "- Welke concrete maatregelen kunnen worden genomen om de efficiëntie van de lokaleninzet te verbeteren? \n",
    "\n",
    "- Hoe kunnen deze maatregelen worden geïmplementeerd zonder de kwaliteit van het onderwijs negatief te beïnvloeden? \n",
    "\n",
    " "
   ]
  },
  {
   "cell_type": "markdown",
   "metadata": {},
   "source": [
    "# Afbakening van de Opdracht"
   ]
  },
  {
   "cell_type": "markdown",
   "metadata": {},
   "source": []
  },
  {
   "cell_type": "markdown",
   "metadata": {},
   "source": [
    "# Tijdsplanning en Milestones"
   ]
  },
  {
   "cell_type": "markdown",
   "metadata": {},
   "source": []
  },
  {
   "cell_type": "markdown",
   "metadata": {},
   "source": [
    "# Onderbouwing van Keuzes"
   ]
  },
  {
   "cell_type": "markdown",
   "metadata": {},
   "source": []
  },
  {
   "cell_type": "markdown",
   "metadata": {},
   "source": [
    "# Procesbeschrijving"
   ]
  },
  {
   "cell_type": "markdown",
   "metadata": {},
   "source": []
  }
 ],
 "metadata": {
  "language_info": {
   "name": "python"
  }
 },
 "nbformat": 4,
 "nbformat_minor": 2
}
