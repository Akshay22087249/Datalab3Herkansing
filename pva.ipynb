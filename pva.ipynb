{
 "cells": [
  {
   "cell_type": "markdown",
   "metadata": {},
   "source": [
    "# Inleiding"
   ]
  },
  {
   "cell_type": "markdown",
   "metadata": {},
   "source": [
    "De Haagse Hogeschool streeft ernaar om haar onderwijs zo effectief en efficiënt mogelijk in te richten. Een belangrijk aspect hierbij is de optimale benutting van de beschikbare onderwijsruimten. Momenteel is er echter een probleem met de toewijzing en beschikbaarheid van lokalen, waardoor het onderwijs niet altijd kan worden gegeven op de gewenste manier. Dit leidt tot frustratie bij zowel docenten als studenten en kan de onderwijskwaliteit negatief beïnvloeden. Er ontstaan suboptimale onderwijssituaties, zoals overvolle lokalen, onnodige verplaatsingen voor studenten en docenten, en een inefficiënte inzet van middelen.\n",
    "\n",
    "De opdrachtgever voor dit project is de Haagse Hogeschool zelf, die graag een oplossing wil vinden voor dit probleem. De school heeft besloten om ons als studenten in te schakelen om met behulp van data-analyse en Machine Learning te onderzoeken hoe de lokalen efficiënter ingezet kunnen worden. De beschikbare data betreft de inzet van de lokalen van het afgelopen jaar, die door ons zelf gescraped moet worden van de MyTimeTable-website. Mogelijk kunnen aanvullende datasets gebruikt worden om de analyse te verrijken. Het uiteindelijke doel is om een onderbouwd advies te geven over hoe de Haagse Hogeschool haar lokalen efficiënter kan inzetten, wat zal bijdragen aan de verbetering van de onderwijskwaliteit en de efficiëntie van de organisatie."
   ]
  },
  {
   "cell_type": "markdown",
   "metadata": {},
   "source": [
    "# Probleemstelling en Doelstelling"
   ]
  },
  {
   "cell_type": "markdown",
   "metadata": {},
   "source": [
    "Probleemstelling: Op de Haagse Hogeschool is er soms een tekort aan geschikte onderwijsruimten, waardoor lessen niet optimaal kunnen worden gepland en gegeven. Dit leidt tot inefficiënt ruimtegebruik, onderbenutte lokalen en overvolle zalen, wat de kwaliteit van het onderwijs beïnvloedt.\n",
    "\n",
    "Doelstelling: Het doel van dit onderzoek is om op basis van data-analyse en Machine Learning inzicht te krijgen in het huidige gebruik van onderwijsruimten en aanbevelingen te doen voor een efficiëntere inzet van lokalen. Dit zal resulteren in een adviesrapport en een presentatie waarin concrete verbeteringen worden voorgesteld. De studenten zullen een Machine Learning model ontwikkelen dat inzichten biedt in de huidige benutting van de lokalen en suggesties doet voor verbetering.\n",
    "\n",
    "Concrete Deliverables:\n",
    "\n",
    "- een plan van aanpak en projectplan\n",
    "\n",
    "- een voorbewerkt dataset van de lokaleninzet van het afgelopen jaar.\n",
    "\n",
    "- Een Machine Learning model dat inzicht geeft in de huidige benutting van de lokalen en suggesties doet voor verbetering.\n",
    "\n",
    "- Een adviesrapport met concrete aanbevelingen voor een efficiëntere inzet van de lokalen.\n",
    "\n",
    "- Een presentatie waarin de resultaten en aanbevelingen worden toegelicht."
   ]
  },
  {
   "cell_type": "markdown",
   "metadata": {},
   "source": [
    " # Onderzoeksvragen"
   ]
  },
  {
   "cell_type": "markdown",
   "metadata": {},
   "source": [
    "Onderzoeksvragen\n",
    "Om het probleem van de inefficiënte inzet van lokalen grondig te analyseren, worden de volgende onderzoeksvragen geformuleerd:\n",
    "\n",
    "1. Dataverzameling en -voorbewerking:\n",
    "- Hoe kan de data over de lokaleninzet van het afgelopen jaar het beste worden gescraped en voorbewerkt voor analyse?\n",
    "\n",
    "- Zijn er aanvullende datasets beschikbaar die de analyse kunnen verrijken, en hoe kunnen deze worden geïntegreerd?\n",
    "\n",
    "2. Analyse van de huidige situatie:\n",
    "- Hoe wordt de huidige capaciteit van de lokalen benut, en waar zitten de grootste knelpunten?\n",
    "\n",
    "- Zijn er patronen te herkennen in de bezetting van lokalen, zoals piek- en daluren?\n",
    "\n",
    "3. Machine Learning en voorspellende modellen:\n",
    "- Welke Machine Learning technieken zijn het meest geschikt om de efficiëntie van de lokaleninzet te analyseren?\n",
    "\n",
    "- Kan er een voorspellend model worden ontwikkeld dat toekomstige bezetting van lokalen kan voorspellen op basis van historische data?\n",
    "\n",
    "4. Aanbevelingen voor verbetering:\n",
    "- Welke concrete maatregelen kunnen worden genomen om de efficiëntie van de lokaleninzet te verbeteren?\n",
    "\n",
    "- Hoe kunnen deze maatregelen worden geïmplementeerd zonder de kwaliteit van het onderwijs negatief te beïnvloeden?"
   ]
  },
  {
   "cell_type": "markdown",
   "metadata": {},
   "source": [
    "# Afbakening van de Opdracht"
   ]
  },
  {
   "cell_type": "markdown",
   "metadata": {},
   "source": [
    "Om dit project binnen de gestelde termijn van 3,5 week haalbaar te maken, hebben wij ervoor gekozen om de opdracht duidelijk af te bakenen.\n",
    "\n",
    "Het project richt zich op het analyseren van het huidige lokaalgebruik binnen De Haagse Hogeschool en het formuleren van aanbevelingen om deze inzet efficiënter te maken.\n",
    "\n",
    "Onze primaire databron bestaat uit gegevens van MyTimeTable over het afgelopen studiejaar.\n",
    "\n",
    "Deze data zullen wij zelf scrapen en vervolgens bewerken zodat deze geschikt is voor verdere analyse.\n",
    "\n",
    "Hoewel de opdrachtgever een toekomstvisie heeft waarin een applicatie wordt ontwikkeld die het ruimtegebruik automatisch optimaliseert, valt dat buiten de scope van dit project.\n",
    "\n",
    "Binnen de beschikbare tijd is het niet realistisch om een volwaardige toepassing te bouwen.\n",
    "\n",
    "In plaats daarvan focussen wij ons op het opleveren van een goed onderbouwd adviesrapport waarin wij met behulp van data-analyse en een eerste toepassing van Machine Learning inzichten geven in de huidige knelpunten en mogelijke verbeteringen.\n",
    "\n",
    "Indien mogelijk zullen wij onze hoofddata aanvullen met externe, openbare datasets, bijvoorbeeld met betrekking tot studenteninstroom of roosterinformatie.\n",
    "\n",
    "We beperken ons echter tot analyses die praktisch uitvoerbaar zijn met de middelen en tijd die wij tot onze beschikking hebben.\n",
    "\n",
    "Complexe algoritmes voor roosteroptimalisatie, zoals constraint programming, laten wij buiten beschouwing.\n",
    "\n",
    "Verder houden wij in onze aanpak nadrukkelijk rekening met de juridische en ethische kant van het project.\n",
    "\n",
    "We zorgen ervoor dat we verantwoord omgaan met de data, met aandacht voor privacy en transparantie.\n",
    "\n",
    "Met deze afbakening zorgen we ervoor dat het project doelgericht blijft, dat de werklast beheersbaar is, en dat we binnen de afgesproken tijd een waardevol en concreet advies kunnen opleveren voor de opdrachtgever."
   ]
  },
  {
   "cell_type": "markdown",
   "metadata": {},
   "source": [
    "# Tijdsplanning en Milestones"
   ]
  },
  {
   "cell_type": "markdown",
   "metadata": {},
   "source": [
    "Elke projectweek eindigt op donderdag, met de definitieve deadline op donderdag 25 april 2025. Binnen deze periode hebben we het project opgedeeld in vier hoofdfases. Per week zijn de activiteiten en deliverables hieronder uitgewerkt. Deze planning helpt ons om gestructureerd te werken en tijdig bij te sturen.\n",
    "\n",
    "\n",
    "Belangrijke deadlines (altijd op donderdag):\n",
    "3 april: Probleemdefinitie en afbakening afgerond\n",
    "10 april: Dataset verwerkt en onderzoeksvragen opgesteld\n",
    "17 april: Eerste modelresultaten en aanbevelingen beschikbaar\n",
    "24 april: Rapport en presentatie volledig klaar\n",
    "25 april: Definitieve deadline – inleveren en presenteren"
   ]
  },
  {
   "cell_type": "markdown",
   "metadata": {},
   "source": [
    "# Onderbouwing van Keuzes"
   ]
  },
  {
   "cell_type": "markdown",
   "metadata": {},
   "source": []
  },
  {
   "cell_type": "markdown",
   "metadata": {},
   "source": [
    "# Procesbeschrijving"
   ]
  },
  {
   "cell_type": "markdown",
   "metadata": {},
   "source": [
    "## Risico's en beheersmaatregelen\n",
    "\n",
    "Afwezigheid van teamleden:\n",
    "\n",
    "Afwezigheid heeft bij ons project een kleine kans om op te dagen, omdat we drie weken hebben, maar kan hierdoor wel grote gevolgen hebben, omdat vertraging in drie weken ernstig kan zijn. Als iemand afwezig is door bijvoorbeeld ziektes of persoonlijke omstandigheden dan kun je van te voren voor een duidelijke taakverdeling zorgen, zodat de afwezige in zijn eigen tijd kan werken, als dit niet werkt dan dient iemand anders in de groep de taak zoveel mogelijk over te nemen.\n",
    "\n",
    "Tijd (onrealistische deadlines):\n",
    "\n",
    "Als tweede kan het zijn dat een onderdeel in het project langer duurt dan verwacht, voor het geval dit gebeurt kun je ruime deadlines instellen en misschien de deadline ook verschuiven als dat mogelijk is. In ons project kan de kans best wel klein zijn, omdat we weinig tijd hebben voor dit project, maar de gevolgen zijn wel groot, omdat we maar drie weken hebben.\n",
    "\n",
    "Communicatieproblemen:\n",
    "\n",
    "Als derde hebben we communicatieproblemen als één van onze risico's, omdat het wel eens kan zijn iemand in de groep niet weet wat de taak is of wat de opdrachtgever van ons verwacht, gevolgen hiervan zijn best groot en de kans is middelgroot, om dit te voorkomen kunnen we afspraken/meetings plannen direct nadat we klaar zijn met de huidige meeting, als dit mislukt dan moet er zo snel mogelijk contact opgenomen worden via whatsapp, mail of teams.\n",
    "\n",
    "Datakwaliteit en toegankelijkheid:\n",
    "\n",
    "Bij het scrapen van data kan het zijn dat wat je gescrapet hebt niet voldoende is voor het project, de kans hiervoor is gemiddeld, omdat al wat kennis gerkregen hadden tijdens data III, maar de gevolgen zijn ernstig, omdat we zonder data het project niet uit kunnen voeren. Om dit te voorkomen kunnen we de data opschonen en kijken of er iets mist door een EDA te doen, zo ja? dan zoeken we nog naar aanvullende datasets.\n",
    "\n",
    "Technische uitdagingen bij Machine Learning:\n",
    "\n",
    "De kans op technische uitdagingen binnen Machine Learning is middelgroot en hangt af van de kwaliteit van de data en de ervaring van het team. Het gevolg kan echter groot zijn, omdat een niet-functionerend model resulteert in onbetrouwbare of onbruikbare adviezen. Om dit te voorkomen kunnen we beginnen met eenvoudige analyses voordat we complexere modellen toepassen en voor het geval dit niet werkt kunnen we hulp vragen bij de opdrachtgever of één van onze docenten."
   ]
  },
  {
   "cell_type": "markdown",
   "metadata": {},
   "source": [
    "# Stakeholderanalyse – Efficiëntere Inzet van Onderwijsruimten\n",
    "\n",
    "| **Stakeholder**                     | **Belang bij het project**                                     | **Invloed**   | **Impact**  |\n",
    "|--------------------------------------|----------------------------------------------------------------|--------------|-------------|\n",
    "| **De Haagse Hogeschool (Bestuur & Management)** | Verantwoordelijk voor onderwijsbeleid en efficiëntie van middelen. Willen kosten en ruimtegebruik optimaliseren.  | **Zeer hoog** | **Zeer hoog** |\n",
    "| **Docenten**                         | Worden beïnvloed door roosterwijzigingen en beschikbaarheid van lokalen.  | **Hoog** | **Zeer hoog** |\n",
    "| **Studenten**                        | Ervaren de gevolgen van slecht lokaalbeheer in hun dagelijkse lessen. | **Matig** | **Zeer hoog** |\n",
    "| **Roostermakers / Planners**         | Verantwoordelijk voor het plannen van lessen en lokaalverdeling. | **Hoog** | **Hoog** |\n",
    "| **Overige medewerkers (bijvoorbeeld receptie, conciërges)** | Zorgen voor de dagelijkse gang van zaken in de gebouwen en lokalen. | **Laag** | **Matig** |\n"
   ]
  },
  {
   "cell_type": "markdown",
   "metadata": {},
   "source": []
  }
 ],
 "metadata": {
  "language_info": {
   "name": "python"
  }
 },
 "nbformat": 4,
 "nbformat_minor": 2
}
