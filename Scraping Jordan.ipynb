{
 "cells": [
  {
   "cell_type": "code",
   "execution_count": 1,
   "metadata": {},
   "outputs": [
    {
     "name": "stdout",
     "output_type": "stream",
     "text": [
      "Collecting selenium\n",
      "  Downloading selenium-4.31.0-py3-none-any.whl.metadata (7.5 kB)\n",
      "Requirement already satisfied: urllib3<3,>=1.26 in c:\\users\\j0rd4\\anaconda3\\envs\\no\\lib\\site-packages (from urllib3[socks]<3,>=1.26->selenium) (2.2.3)\n",
      "Collecting trio~=0.17 (from selenium)\n",
      "  Downloading trio-0.29.0-py3-none-any.whl.metadata (8.5 kB)\n",
      "Collecting trio-websocket~=0.9 (from selenium)\n",
      "  Downloading trio_websocket-0.12.2-py3-none-any.whl.metadata (5.1 kB)\n",
      "Requirement already satisfied: certifi>=2021.10.8 in c:\\users\\j0rd4\\anaconda3\\envs\\no\\lib\\site-packages (from selenium) (2024.8.30)\n",
      "Requirement already satisfied: typing_extensions~=4.9 in c:\\users\\j0rd4\\anaconda3\\envs\\no\\lib\\site-packages (from selenium) (4.12.2)\n",
      "Requirement already satisfied: websocket-client~=1.8 in c:\\users\\j0rd4\\anaconda3\\envs\\no\\lib\\site-packages (from selenium) (1.8.0)\n",
      "Requirement already satisfied: attrs>=23.2.0 in c:\\users\\j0rd4\\anaconda3\\envs\\no\\lib\\site-packages (from trio~=0.17->selenium) (24.2.0)\n",
      "Collecting sortedcontainers (from trio~=0.17->selenium)\n",
      "  Downloading sortedcontainers-2.4.0-py2.py3-none-any.whl.metadata (10 kB)\n",
      "Requirement already satisfied: idna in c:\\users\\j0rd4\\anaconda3\\envs\\no\\lib\\site-packages (from trio~=0.17->selenium) (3.10)\n",
      "Collecting outcome (from trio~=0.17->selenium)\n",
      "  Downloading outcome-1.3.0.post0-py2.py3-none-any.whl.metadata (2.6 kB)\n",
      "Requirement already satisfied: sniffio>=1.3.0 in c:\\users\\j0rd4\\anaconda3\\envs\\no\\lib\\site-packages (from trio~=0.17->selenium) (1.3.1)\n",
      "Requirement already satisfied: cffi>=1.14 in c:\\users\\j0rd4\\anaconda3\\envs\\no\\lib\\site-packages (from trio~=0.17->selenium) (1.17.1)\n",
      "Collecting wsproto>=0.14 (from trio-websocket~=0.9->selenium)\n",
      "  Downloading wsproto-1.2.0-py3-none-any.whl.metadata (5.6 kB)\n",
      "Collecting pysocks!=1.5.7,<2.0,>=1.5.6 (from urllib3[socks]<3,>=1.26->selenium)\n",
      "  Downloading PySocks-1.7.1-py3-none-any.whl.metadata (13 kB)\n",
      "Requirement already satisfied: pycparser in c:\\users\\j0rd4\\anaconda3\\envs\\no\\lib\\site-packages (from cffi>=1.14->trio~=0.17->selenium) (2.22)\n",
      "Requirement already satisfied: h11<1,>=0.9.0 in c:\\users\\j0rd4\\anaconda3\\envs\\no\\lib\\site-packages (from wsproto>=0.14->trio-websocket~=0.9->selenium) (0.14.0)\n",
      "Downloading selenium-4.31.0-py3-none-any.whl (9.4 MB)\n",
      "   ---------------------------------------- 0.0/9.4 MB ? eta -:--:--\n",
      "   ---------------------------------------- 0.1/9.4 MB 3.4 MB/s eta 0:00:03\n",
      "    --------------------------------------- 0.2/9.4 MB 2.5 MB/s eta 0:00:04\n",
      "   -- ------------------------------------- 0.5/9.4 MB 4.5 MB/s eta 0:00:02\n",
      "   ---- ----------------------------------- 1.0/9.4 MB 6.6 MB/s eta 0:00:02\n",
      "   ---------- ----------------------------- 2.4/9.4 MB 10.9 MB/s eta 0:00:01\n",
      "   -------------- ------------------------- 3.4/9.4 MB 12.7 MB/s eta 0:00:01\n",
      "   -------------------- ------------------- 4.7/9.4 MB 16.0 MB/s eta 0:00:01\n",
      "   --------------------- ------------------ 5.1/9.4 MB 14.9 MB/s eta 0:00:01\n",
      "   ------------------------- -------------- 6.1/9.4 MB 15.5 MB/s eta 0:00:01\n",
      "   ------------------------------- -------- 7.3/9.4 MB 17.3 MB/s eta 0:00:01\n",
      "   ------------------------------------ --- 8.5/9.4 MB 17.5 MB/s eta 0:00:01\n",
      "   ---------------------------------------  9.3/9.4 MB 18.7 MB/s eta 0:00:01\n",
      "   ---------------------------------------- 9.4/9.4 MB 17.1 MB/s eta 0:00:00\n",
      "Downloading trio-0.29.0-py3-none-any.whl (492 kB)\n",
      "   ---------------------------------------- 0.0/492.9 kB ? eta -:--:--\n",
      "   --------------------- ------------------ 266.2/492.9 kB 8.3 MB/s eta 0:00:01\n",
      "   ---------------------------- ----------- 348.2/492.9 kB 5.5 MB/s eta 0:00:01\n",
      "   ---------------------------------------- 492.9/492.9 kB 4.4 MB/s eta 0:00:00\n",
      "Downloading trio_websocket-0.12.2-py3-none-any.whl (21 kB)\n",
      "Downloading outcome-1.3.0.post0-py2.py3-none-any.whl (10 kB)\n",
      "Downloading PySocks-1.7.1-py3-none-any.whl (16 kB)\n",
      "Downloading wsproto-1.2.0-py3-none-any.whl (24 kB)\n",
      "Downloading sortedcontainers-2.4.0-py2.py3-none-any.whl (29 kB)\n",
      "Installing collected packages: sortedcontainers, wsproto, pysocks, outcome, trio, trio-websocket, selenium\n",
      "Successfully installed outcome-1.3.0.post0 pysocks-1.7.1 selenium-4.31.0 sortedcontainers-2.4.0 trio-0.29.0 trio-websocket-0.12.2 wsproto-1.2.0\n",
      "Collecting webdriver-manager\n",
      "  Downloading webdriver_manager-4.0.2-py2.py3-none-any.whl.metadata (12 kB)\n",
      "Requirement already satisfied: requests in c:\\users\\j0rd4\\anaconda3\\envs\\no\\lib\\site-packages (from webdriver-manager) (2.32.3)\n",
      "Collecting python-dotenv (from webdriver-manager)\n",
      "  Downloading python_dotenv-1.1.0-py3-none-any.whl.metadata (24 kB)\n",
      "Requirement already satisfied: packaging in c:\\users\\j0rd4\\anaconda3\\envs\\no\\lib\\site-packages (from webdriver-manager) (24.1)\n",
      "Requirement already satisfied: charset-normalizer<4,>=2 in c:\\users\\j0rd4\\anaconda3\\envs\\no\\lib\\site-packages (from requests->webdriver-manager) (3.4.0)\n",
      "Requirement already satisfied: idna<4,>=2.5 in c:\\users\\j0rd4\\anaconda3\\envs\\no\\lib\\site-packages (from requests->webdriver-manager) (3.10)\n",
      "Requirement already satisfied: urllib3<3,>=1.21.1 in c:\\users\\j0rd4\\anaconda3\\envs\\no\\lib\\site-packages (from requests->webdriver-manager) (2.2.3)\n",
      "Requirement already satisfied: certifi>=2017.4.17 in c:\\users\\j0rd4\\anaconda3\\envs\\no\\lib\\site-packages (from requests->webdriver-manager) (2024.8.30)\n",
      "Downloading webdriver_manager-4.0.2-py2.py3-none-any.whl (27 kB)\n",
      "Downloading python_dotenv-1.1.0-py3-none-any.whl (20 kB)\n",
      "Installing collected packages: python-dotenv, webdriver-manager\n",
      "Successfully installed python-dotenv-1.1.0 webdriver-manager-4.0.2\n"
     ]
    }
   ],
   "source": [
    "!pip install selenium\n",
    "!pip install webdriver-manager"
   ]
  },
  {
   "cell_type": "code",
   "execution_count": 7,
   "metadata": {},
   "outputs": [
    {
     "name": "stdout",
     "output_type": "stream",
     "text": [
      "Requirement already satisfied: selenium in c:\\users\\j0rd4\\anaconda3\\envs\\no\\lib\\site-packages (4.31.0)Note: you may need to restart the kernel to use updated packages.\n",
      "\n",
      "Collecting geckodriver-autoinstaller\n",
      "  Downloading geckodriver_autoinstaller-0.1.0-py3-none-any.whl.metadata (1.8 kB)\n",
      "Requirement already satisfied: urllib3<3,>=1.26 in c:\\users\\j0rd4\\anaconda3\\envs\\no\\lib\\site-packages (from urllib3[socks]<3,>=1.26->selenium) (2.2.3)\n",
      "Requirement already satisfied: trio~=0.17 in c:\\users\\j0rd4\\anaconda3\\envs\\no\\lib\\site-packages (from selenium) (0.29.0)\n",
      "Requirement already satisfied: trio-websocket~=0.9 in c:\\users\\j0rd4\\anaconda3\\envs\\no\\lib\\site-packages (from selenium) (0.12.2)\n",
      "Requirement already satisfied: certifi>=2021.10.8 in c:\\users\\j0rd4\\anaconda3\\envs\\no\\lib\\site-packages (from selenium) (2024.8.30)\n",
      "Requirement already satisfied: typing_extensions~=4.9 in c:\\users\\j0rd4\\anaconda3\\envs\\no\\lib\\site-packages (from selenium) (4.12.2)\n",
      "Requirement already satisfied: websocket-client~=1.8 in c:\\users\\j0rd4\\anaconda3\\envs\\no\\lib\\site-packages (from selenium) (1.8.0)\n",
      "Requirement already satisfied: attrs>=23.2.0 in c:\\users\\j0rd4\\anaconda3\\envs\\no\\lib\\site-packages (from trio~=0.17->selenium) (24.2.0)\n",
      "Requirement already satisfied: sortedcontainers in c:\\users\\j0rd4\\anaconda3\\envs\\no\\lib\\site-packages (from trio~=0.17->selenium) (2.4.0)\n",
      "Requirement already satisfied: idna in c:\\users\\j0rd4\\anaconda3\\envs\\no\\lib\\site-packages (from trio~=0.17->selenium) (3.10)\n",
      "Requirement already satisfied: outcome in c:\\users\\j0rd4\\anaconda3\\envs\\no\\lib\\site-packages (from trio~=0.17->selenium) (1.3.0.post0)\n",
      "Requirement already satisfied: sniffio>=1.3.0 in c:\\users\\j0rd4\\anaconda3\\envs\\no\\lib\\site-packages (from trio~=0.17->selenium) (1.3.1)\n",
      "Requirement already satisfied: cffi>=1.14 in c:\\users\\j0rd4\\anaconda3\\envs\\no\\lib\\site-packages (from trio~=0.17->selenium) (1.17.1)\n",
      "Requirement already satisfied: wsproto>=0.14 in c:\\users\\j0rd4\\anaconda3\\envs\\no\\lib\\site-packages (from trio-websocket~=0.9->selenium) (1.2.0)\n",
      "Requirement already satisfied: pysocks!=1.5.7,<2.0,>=1.5.6 in c:\\users\\j0rd4\\anaconda3\\envs\\no\\lib\\site-packages (from urllib3[socks]<3,>=1.26->selenium) (1.7.1)\n",
      "Requirement already satisfied: pycparser in c:\\users\\j0rd4\\anaconda3\\envs\\no\\lib\\site-packages (from cffi>=1.14->trio~=0.17->selenium) (2.22)\n",
      "Requirement already satisfied: h11<1,>=0.9.0 in c:\\users\\j0rd4\\anaconda3\\envs\\no\\lib\\site-packages (from wsproto>=0.14->trio-websocket~=0.9->selenium) (0.14.0)\n",
      "Downloading geckodriver_autoinstaller-0.1.0-py3-none-any.whl (5.6 kB)\n",
      "Installing collected packages: geckodriver-autoinstaller\n",
      "Successfully installed geckodriver-autoinstaller-0.1.0\n"
     ]
    }
   ],
   "source": [
    "pip install selenium geckodriver-autoinstaller"
   ]
  },
  {
   "cell_type": "code",
   "execution_count": 14,
   "metadata": {},
   "outputs": [
    {
     "name": "stdout",
     "output_type": "stream",
     "text": [
      "🚀 De browser wordt geopend...\n",
      "🔗 Website geladen, nu wachten voor 2FA...\n",
      "🔍 Wachten tot roosteritems zichtbaar zijn...\n",
      "❌ Geen roosteritems gevonden na wachten.\n",
      "❌ Geen roosteritems gevonden. Controleer of de pagina goed geladen is.\n"
     ]
    }
   ],
   "source": [
    "from selenium import webdriver\n",
    "from selenium.webdriver.common.by import By\n",
    "from selenium.webdriver.common.keys import Keys\n",
    "from selenium.webdriver.support.ui import WebDriverWait\n",
    "from selenium.webdriver.support import expected_conditions as EC\n",
    "import time\n",
    "\n",
    "# Start Firefox\n",
    "print(\"🚀 De browser wordt geopend...\")  # Debugging\n",
    "driver = webdriver.Firefox()\n",
    "\n",
    "# Ga naar de MyTimetable website\n",
    "driver.get(\"https://mytimetable.hhs.nl/schedule\")\n",
    "print(\"🔗 Website geladen, nu wachten voor 2FA...\")  # Debugging\n",
    "\n",
    "# Wacht op de gebruiker om in te loggen (2FA)\n",
    "input(\"🔐 Log in met 2FA en druk op ENTER om verder te gaan...\")\n",
    "\n",
    "# Wacht totdat de roosteritems zichtbaar zijn (max 30 seconden)\n",
    "try:\n",
    "    print(\"🔍 Wachten tot roosteritems zichtbaar zijn...\")\n",
    "    WebDriverWait(driver, 30).until(\n",
    "        EC.presence_of_all_elements_located((By.CSS_SELECTOR, \"div.timetable-grid__event\"))\n",
    "    )\n",
    "    print(\"✔️ Roosteritems gevonden!\")\n",
    "except:\n",
    "    print(\"❌ Geen roosteritems gevonden na wachten.\")\n",
    "\n",
    "# Haal de roosteritems op met een andere CSS-selector\n",
    "events = driver.find_elements(By.CSS_SELECTOR, \"div.timetable-grid__event\")\n",
    "\n",
    "if not events:\n",
    "    print(\"❌ Geen roosteritems gevonden. Controleer of de pagina goed geladen is.\")\n",
    "else:\n",
    "    print(f\"✔️ {len(events)} roosteritems gevonden!\")\n",
    "\n",
    "# Print de gevonden lesinformatie\n",
    "for event in events:\n",
    "    print(\"📚\", event.text)\n",
    "    print(\"-\" * 30)\n",
    "\n",
    "# Sluit de browser\n",
    "driver.quit()"
   ]
  },
  {
   "cell_type": "code",
   "execution_count": null,
   "metadata": {},
   "outputs": [],
   "source": []
  }
 ],
 "metadata": {
  "kernelspec": {
   "display_name": "no",
   "language": "python",
   "name": "python3"
  },
  "language_info": {
   "codemirror_mode": {
    "name": "ipython",
    "version": 3
   },
   "file_extension": ".py",
   "mimetype": "text/x-python",
   "name": "python",
   "nbconvert_exporter": "python",
   "pygments_lexer": "ipython3",
   "version": "3.11.5"
  }
 },
 "nbformat": 4,
 "nbformat_minor": 2
}
